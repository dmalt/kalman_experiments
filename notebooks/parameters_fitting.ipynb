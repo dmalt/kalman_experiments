{
 "cells": [
  {
   "cell_type": "code",
   "execution_count": 1,
   "id": "ca3d9ab2",
   "metadata": {},
   "outputs": [],
   "source": [
    "%matplotlib notebook\n",
    "from kalman_experiments.model_selection import fit_kf_parameters\n",
    "from kalman_experiments import SSPE\n",
    "from kalman_experiments.kalman import PerturbedP1DMatsudaKF\n",
    "from kalman_experiments.models import MatsudaParams, SingleRhythmModel, collect, gen_ar_noise_coefficients, ArNoise\n",
    "import numpy as np\n",
    "# Setup oscillatioins model and generate oscillatory signal\n",
    "# sim = SSPE.gen_sine_w_pink(1, 1000)\n",
    "# a = gen_ar_noise_coefficients(alpha=1.5, order=20)\n",
    "# kf = PerturbedP1DMatsudaKF(MatsudaParams(A=0.9, freq=1, sr=1000), q_s=2, psi=a, r_s=1)\n",
    "# kf = fit_kf_parameters(sim.data, kf)\n"
   ]
  },
  {
   "cell_type": "code",
   "execution_count": 2,
   "id": "941634ed",
   "metadata": {},
   "outputs": [],
   "source": [
    "SRATE = 1000\n",
    "DURATION = 100\n",
    "FREQ_GT = 6\n",
    "SIGNAL_SIGMA_GT = np.sqrt(10)\n",
    "NOISE_SIGMA_GT = 1\n",
    "A_GT = 0.99\n",
    "ALPHA = 1.5\n",
    "NOISE_AR_ORDER = 1000\n",
    "\n",
    "mp = MatsudaParams(A_GT, FREQ_GT, SRATE)\n",
    "oscillation_model = SingleRhythmModel(mp, sigma=SIGNAL_SIGMA_GT)\n",
    "gt_states = collect(oscillation_model, DURATION * SRATE)\n",
    "\n",
    "noise_model = ArNoise(x0=np.random.rand(NOISE_AR_ORDER), alpha=ALPHA, order=NOISE_AR_ORDER, s=NOISE_SIGMA_GT)\n",
    "noise_sim = collect(noise_model, DURATION * SRATE)\n",
    "\n",
    "data = np.real(gt_states) + noise_sim"
   ]
  },
  {
   "cell_type": "code",
   "execution_count": 5,
   "id": "94866531",
   "metadata": {
    "scrolled": false
   },
   "outputs": [
    {
     "name": "stderr",
     "output_type": "stream",
     "text": [
      "\r",
      "Fitting KF parameters:   0%|                                    | 0/800 [00:00<?, ?it/s]"
     ]
    },
    {
     "name": "stdout",
     "output_type": "stream",
     "text": [
      "nll =  12347.756944608347\n"
     ]
    },
    {
     "name": "stderr",
     "output_type": "stream",
     "text": [
      "\r",
      "Fitting KF parameters:   0%|                            | 1/800 [00:01<25:03,  1.88s/it]"
     ]
    },
    {
     "name": "stdout",
     "output_type": "stream",
     "text": [
      "9013019.62513106028 8906748.684192098908 320335.12724912330037 9013751.430019968619\n",
      "Amp=0.98884809864154812897, f=5.7240774108912404, q_s=3.1672978481018098803, r_s=1.0005425960768228537\n",
      "nll =  12362.080527407423\n"
     ]
    },
    {
     "name": "stderr",
     "output_type": "stream",
     "text": [
      "\r",
      "Fitting KF parameters:   0%|                            | 2/800 [00:03<24:26,  1.84s/it]"
     ]
    },
    {
     "name": "stdout",
     "output_type": "stream",
     "text": [
      "9017933.396095070708 8911480.869730648806 320359.50769262318508 9018665.996711789691\n",
      "Amp=0.9888337973977258694, f=5.721473227749647, q_s=3.1701762615976376578, r_s=1.0009417817585703836\n",
      "nll =  12370.363747142432\n"
     ]
    },
    {
     "name": "stderr",
     "output_type": "stream",
     "text": [
      "\r",
      "Fitting KF parameters:   0%|                            | 3/800 [00:05<24:00,  1.81s/it]"
     ]
    },
    {
     "name": "stdout",
     "output_type": "stream",
     "text": [
      "9020722.541482900888 8914166.625159754476 320372.7028675776863 9021455.607625303109\n",
      "Amp=0.9888256489231590132, f=5.719984989866871, q_s=3.1718143450690762589, r_s=1.0012583600752248923\n",
      "nll =  12375.155011511099\n"
     ]
    },
    {
     "name": "stderr",
     "output_type": "stream",
     "text": [
      "\r",
      "Fitting KF parameters:   0%|▏                           | 4/800 [00:07<27:28,  2.07s/it]"
     ]
    },
    {
     "name": "stdout",
     "output_type": "stream",
     "text": [
      "9022280.14822387504 8915666.180335946536 320379.441430305757 9023013.48734586844\n",
      "Amp=0.9888210634200840503, f=5.7191432179364305, q_s=3.1727340919267646587, r_s=1.0015272124402628282\n",
      "nll =  12377.925952962487\n"
     ]
    },
    {
     "name": "stderr",
     "output_type": "stream",
     "text": [
      "\r",
      "Fitting KF parameters:   1%|▏                           | 5/800 [00:09<26:15,  1.98s/it]"
     ]
    },
    {
     "name": "stdout",
     "output_type": "stream",
     "text": [
      "9023124.232222657874 8916478.487235404895 320382.44647436005877 9023857.731738570106\n",
      "Amp=0.98881854132951629464, f=5.718675832534735, q_s=3.173237814983617613, r_s=1.0017684367335656993\n",
      "nll =  12379.52751006887\n"
     ]
    },
    {
     "name": "stderr",
     "output_type": "stream",
     "text": [
      "\r",
      "Fitting KF parameters:   1%|▏                           | 6/800 [00:11<25:44,  1.95s/it]"
     ]
    },
    {
     "name": "stdout",
     "output_type": "stream",
     "text": [
      "9023555.077921664197 8916892.7769691378235 320383.2903680031708 9024288.671744697199\n",
      "Amp=0.98881721420862602, f=5.718425198272429, q_s=3.173500613624486551, r_s=1.0019936421469136988\n",
      "nll =  12380.452090096847\n"
     ]
    },
    {
     "name": "stderr",
     "output_type": "stream",
     "text": [
      "\r",
      "Fitting KF parameters:   1%|▏                           | 7/800 [00:13<25:30,  1.93s/it]"
     ]
    },
    {
     "name": "stdout",
     "output_type": "stream",
     "text": [
      "9023746.689720963915 8917076.647846417844 320382.88246539512386 9024480.338844628077\n",
      "Amp=0.98881657906422798347, f=5.718300003478403, q_s=3.173623908992911783, r_s=1.0022095442599583309\n",
      "nll =  12380.984751961247\n"
     ]
    },
    {
     "name": "stderr",
     "output_type": "stream",
     "text": [
      "\r",
      "Fitting KF parameters:   1%|▏                           | 7/800 [00:15<29:09,  2.21s/it]"
     ]
    },
    {
     "name": "stdout",
     "output_type": "stream",
     "text": [
      "9023799.870579449167 8917127.191092524968 320381.7491711483142 9024533.551799468613\n",
      "Amp=0.98881634455640554204, f=5.718247364235327, q_s=3.1736664460742780383, r_s=1.0024200309980686851\n"
     ]
    },
    {
     "name": "stderr",
     "output_type": "stream",
     "text": [
      "\n"
     ]
    }
   ],
   "source": [
    "a = gen_ar_noise_coefficients(alpha=ALPHA, order=30)\n",
    "kf = PerturbedP1DMatsudaKF(MatsudaParams(A=0.99, freq=6, sr=SRATE), q_s=np.sqrt(10), psi=a, r_s=1, lambda_=0)\n",
    "\n",
    "kf = fit_kf_parameters(data[:10000], kf, tol=1e-4)"
   ]
  },
  {
   "cell_type": "code",
   "execution_count": 4,
   "id": "76c1783e",
   "metadata": {},
   "outputs": [
    {
     "ename": "NameError",
     "evalue": "name 'sim' is not defined",
     "output_type": "error",
     "traceback": [
      "\u001b[0;31m---------------------------------------------------------------------------\u001b[0m",
      "\u001b[0;31mNameError\u001b[0m                                 Traceback (most recent call last)",
      "Input \u001b[0;32mIn [4]\u001b[0m, in \u001b[0;36m<cell line: 16>\u001b[0;34m()\u001b[0m\n\u001b[1;32m     14\u001b[0m noise_sim \u001b[38;5;241m=\u001b[39m collect(noise_model, \u001b[38;5;241m10\u001b[39m \u001b[38;5;241m*\u001b[39m \u001b[38;5;241m1000\u001b[39m)\n\u001b[1;32m     15\u001b[0m freqs, psd \u001b[38;5;241m=\u001b[39m welch(gen_noise, nperseg\u001b[38;5;241m=\u001b[39m\u001b[38;5;241m1000\u001b[39m)\n\u001b[0;32m---> 16\u001b[0m _, psd_data \u001b[38;5;241m=\u001b[39m welch(\u001b[43msim\u001b[49m\u001b[38;5;241m.\u001b[39mdata, nperseg\u001b[38;5;241m=\u001b[39m\u001b[38;5;241m1000\u001b[39m)\n\u001b[1;32m     17\u001b[0m _, psd_ar_noise \u001b[38;5;241m=\u001b[39m welch(noise_sim, nperseg\u001b[38;5;241m=\u001b[39m\u001b[38;5;241m1000\u001b[39m)\n\u001b[1;32m     18\u001b[0m plt\u001b[38;5;241m.\u001b[39mloglog(freqs, psd, label\u001b[38;5;241m=\u001b[39m\u001b[38;5;124m\"\u001b[39m\u001b[38;5;124mfitted ar\u001b[39m\u001b[38;5;124m\"\u001b[39m)\n",
      "\u001b[0;31mNameError\u001b[0m: name 'sim' is not defined"
     ]
    }
   ],
   "source": [
    "from collections import deque\n",
    "ar_states = deque(np.random.randn(len(kf.psi)))\n",
    "gen_noise = []\n",
    "for i in range(100000):\n",
    "    next_state = np.array(ar_states) @ kf.psi + np.random.randn()\n",
    "    gen_noise.append(next_state)\n",
    "    ar_states.pop()\n",
    "    ar_states.appendleft(next_state)\n",
    "    \n",
    "from scipy.signal import welch\n",
    "import matplotlib.pyplot as plt\n",
    "\n",
    "noise_model = ArNoise(x0=np.random.rand(30), alpha=1.5, order=30, s=1)\n",
    "noise_sim = collect(noise_model, 10 * 1000)\n",
    "freqs, psd = welch(gen_noise, nperseg=1000)\n",
    "_, psd_data = welch(sim.data, nperseg=1000)\n",
    "_, psd_ar_noise = welch(noise_sim, nperseg=1000)\n",
    "plt.loglog(freqs, psd, label=\"fitted ar\")\n",
    "plt.loglog(freqs, psd_data, label=\"data\")\n",
    "plt.loglog(freqs, psd_ar_noise, label=\"true ar\")\n",
    "plt.loglog(freqs, [1/f**1.5 if f else 1000000 for f in freqs ], label=\"1/f\")\n",
    "plt.legend()\n",
    "plt.show()\n",
    "    \n",
    "    "
   ]
  },
  {
   "cell_type": "code",
   "execution_count": null,
   "id": "df795718",
   "metadata": {},
   "outputs": [],
   "source": [
    "kf.M"
   ]
  },
  {
   "cell_type": "code",
   "execution_count": null,
   "id": "2c0fc906",
   "metadata": {},
   "outputs": [],
   "source": [
    "kf.q_s"
   ]
  },
  {
   "cell_type": "code",
   "execution_count": null,
   "id": "a7ff4462",
   "metadata": {},
   "outputs": [],
   "source": [
    "kf.r_s"
   ]
  },
  {
   "cell_type": "code",
   "execution_count": null,
   "id": "405ad54a",
   "metadata": {
    "scrolled": true
   },
   "outputs": [],
   "source": []
  }
 ],
 "metadata": {
  "kernelspec": {
   "display_name": "Python 3 (ipykernel)",
   "language": "python",
   "name": "python3"
  },
  "language_info": {
   "codemirror_mode": {
    "name": "ipython",
    "version": 3
   },
   "file_extension": ".py",
   "mimetype": "text/x-python",
   "name": "python",
   "nbconvert_exporter": "python",
   "pygments_lexer": "ipython3",
   "version": "3.10.6"
  }
 },
 "nbformat": 4,
 "nbformat_minor": 5
}
